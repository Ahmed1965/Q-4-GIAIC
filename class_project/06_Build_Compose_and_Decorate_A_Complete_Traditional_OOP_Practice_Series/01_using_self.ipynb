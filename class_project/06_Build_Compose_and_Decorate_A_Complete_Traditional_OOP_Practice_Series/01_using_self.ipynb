{
 "cells": [
  {
   "cell_type": "code",
   "execution_count": 14,
   "id": "cb86db61",
   "metadata": {},
   "outputs": [
    {
     "name": "stdout",
     "output_type": "stream",
     "text": [
      "The student Rafiq acquired A\n",
      "The student Jameel acquired B\n",
      "The student Waqas acquired C\n"
     ]
    }
   ],
   "source": [
    "class Students:\n",
    "    def __init__(self,name,grade):\n",
    "        self.name = name\n",
    "        self.grade = grade\n",
    "    def display(self):\n",
    "        print(f'The student {self.name} acquired {self.grade}')\n",
    "my_student_dict:dict = {'Rafiq':'A','Jameel':'B', 'Waqas':'C'}\n",
    "for name, grade in my_student_dict.items():\n",
    "    student = Students(name, grade)\n",
    "    student.display()"
   ]
  }
 ],
 "metadata": {
  "kernelspec": {
   "display_name": "Python 3",
   "language": "python",
   "name": "python3"
  },
  "language_info": {
   "codemirror_mode": {
    "name": "ipython",
    "version": 3
   },
   "file_extension": ".py",
   "mimetype": "text/x-python",
   "name": "python",
   "nbconvert_exporter": "python",
   "pygments_lexer": "ipython3",
   "version": "3.13.3"
  }
 },
 "nbformat": 4,
 "nbformat_minor": 5
}
